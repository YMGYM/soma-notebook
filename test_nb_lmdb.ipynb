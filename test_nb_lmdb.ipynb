{
 "cells": [
  {
   "cell_type": "code",
   "execution_count": 3,
   "source": [
    "import sys\n",
    "from pathlib import Path\n",
    "sys.path.append(str(Path('../../fonts/dataset').absolute()))"
   ],
   "outputs": [],
   "metadata": {}
  },
  {
   "cell_type": "markdown",
   "source": [
    "# LMDB\n",
    "## Sysmas Lighting Memory-mapped Database\n",
    "\n",
    "매우 빠른 메모리 급 효율의 데이터베이스라고 한다.\n",
    "\n",
    "자세한 설명은 [이 블로그](https://m.blog.naver.com/PostView.naver?isHttpsRedirect=true&blogId=tosemfaos&logNo=220919092977) 에 걸어 두었다.\n"
   ],
   "metadata": {}
  },
  {
   "cell_type": "code",
   "execution_count": 2,
   "source": [
    "import lmdb # conda install -C conda-forge python-lmdb 로 설치"
   ],
   "outputs": [],
   "metadata": {}
  },
  {
   "cell_type": "code",
   "execution_count": 4,
   "source": [
    "env = lmdb.open('test_db') # 첫 번째 인자는 경로. 없으면 새로 만들고 있으면 불러오는 느낌인듯 Environment 객체 생성"
   ],
   "outputs": [],
   "metadata": {}
  },
  {
   "cell_type": "code",
   "execution_count": 11,
   "source": [
    "env.stat() # 데이터베이스 상태 확인으로 추정됨\n"
   ],
   "outputs": [
    {
     "output_type": "execute_result",
     "data": {
      "text/plain": [
       "{'psize': 4096,\n",
       " 'depth': 1,\n",
       " 'branch_pages': 0,\n",
       " 'leaf_pages': 1,\n",
       " 'overflow_pages': 0,\n",
       " 'entries': 4}"
      ]
     },
     "metadata": {},
     "execution_count": 11
    }
   ],
   "metadata": {}
  },
  {
   "cell_type": "code",
   "execution_count": 10,
   "source": [
    "with env.begin(write=True) as txn: # env.begin() 을 수행하면 Environment.open_db() 를 수행한다. 데이터베이스 준비의 개념 txn 파일은 트랜젝션 파일이라고 한다. \n",
    "    # 테스트 데이터를 몇 가지 저장 해 보기\n",
    "    txn.put(\"hello\".encode(), \"data1\".encode()) # 바이트 단위의 오브젝트 입력만 받기 때문에 encode()로 인코딩 해야 들어간다.\n",
    "    txn.put(\"hello2\".encode(), \"data2\".encode())\n",
    "    txn.put(\"iam\".encode(), \"aaa\".encode())\n",
    "    txn.put(\"Jisoo\".encode(), \"data3\".encode()) "
   ],
   "outputs": [],
   "metadata": {}
  },
  {
   "cell_type": "code",
   "execution_count": 15,
   "source": [
    "with env.begin(write=False) as txn: # write=False로 열면 환경 구축\n",
    "    data1 = txn.get(\"hello\".encode()) # get()으로 불러오기가 가능하다.\n",
    "    data2 = txn.get(\"iam\".encode())\n",
    "    data3 = txn.get(\"Jisoo\".encode())\n",
    "\n",
    "print(data1.decode()) # 바이트 단위 객체이기 때문에 디코딩 필요\n",
    "print(data2.decode())\n",
    "print(data3) # 만약 디코딩이 없으면 바이트 단위 객체 생성됨"
   ],
   "outputs": [
    {
     "output_type": "stream",
     "name": "stdout",
     "text": [
      "data1\n",
      "aaa\n",
      "b'data3'\n"
     ]
    }
   ],
   "metadata": {}
  },
  {
   "cell_type": "code",
   "execution_count": null,
   "source": [
    " "
   ],
   "outputs": [],
   "metadata": {}
  }
 ],
 "metadata": {
  "orig_nbformat": 4,
  "language_info": {
   "name": "python",
   "version": "3.7.10",
   "mimetype": "text/x-python",
   "codemirror_mode": {
    "name": "ipython",
    "version": 3
   },
   "pygments_lexer": "ipython3",
   "nbconvert_exporter": "python",
   "file_extension": ".py"
  },
  "kernelspec": {
   "name": "python3",
   "display_name": "Python 3.7.10 64-bit ('soma-ai_serv': conda)"
  },
  "interpreter": {
   "hash": "c858d8e8953976857c530f4a8e572b196dc657137b64183d7c161f41d0f36d45"
  }
 },
 "nbformat": 4,
 "nbformat_minor": 2
}